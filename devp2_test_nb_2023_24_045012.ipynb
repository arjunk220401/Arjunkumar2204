{
  "cells": [
    {
      "cell_type": "markdown",
      "metadata": {
        "id": "view-in-github",
        "colab_type": "text"
      },
      "source": [
        "<a href=\"https://colab.research.google.com/github/arjunk220401/Arjunkumar2204/blob/main/devp2_test_nb_2023_24_045012.ipynb\" target=\"_parent\"><img src=\"https://colab.research.google.com/assets/colab-badge.svg\" alt=\"Open In Colab\"/></a>"
      ]
    },
    {
      "cell_type": "markdown",
      "id": "363220d8",
      "metadata": {
        "deletable": false,
        "editable": false,
        "id": "363220d8"
      },
      "source": [
        "# FORE School of Management\n",
        "\n",
        "## Data Exploration & Vizualization using Python - II: Test\n",
        "## AY: 2023-24 | Term: 02 | Batch: PGDM BDA-04 | Section: H | Faculty: Prof. Amarnath Mitra\n",
        "\n",
        "### Total Marks: 70 | Exam Duaration: 01 Hrs | Number of Questions: 12 {Part A: 3 | Part B: 2 | Part C: 4 | Part D: 3}\n",
        "\n",
        "### Note\n",
        "### 1. Edit the Filename: \"devp2_test_nb_2023-24_xxxx.ipynb\" with \"xxxx\" as Student Roll Number\n",
        "### 2. Answer to a Question must be given in the Cells below the Question.\n",
        "### -----------------------------------------------------------------------------------------------------------------------------------------------------------"
      ]
    },
    {
      "cell_type": "markdown",
      "id": "9bda4a99",
      "metadata": {
        "deletable": false,
        "id": "9bda4a99"
      },
      "source": [
        "### 'Double-Click' & Edit the Following with One's Name & Roll Number\n",
        "\n",
        "#### Student Name : Arjun Kumar\n",
        "#### Student Roll Number : 045012\n",
        "\n",
        "### -----------------------------------------------------------------------------------------------------------------------------------------------------------"
      ]
    },
    {
      "cell_type": "markdown",
      "id": "63103081",
      "metadata": {
        "deletable": false,
        "editable": false,
        "id": "63103081"
      },
      "source": [
        "### Required Python Libraries"
      ]
    },
    {
      "cell_type": "code",
      "execution_count": null,
      "id": "066f1334",
      "metadata": {
        "deletable": false,
        "id": "066f1334"
      },
      "outputs": [],
      "source": [
        "# Required Python Libraries\n",
        "\"\"\"\n",
        "Input/Output: os\n",
        "Data Manipulation: pandas\n",
        "Visualization: matplotlib, seaborn\n",
        "Statistical Analysis: numpy, scipy, statsmodels\n",
        "\"\"\"\n",
        "import os\n",
        "import pandas as pd\n",
        "import numpy as np\n",
        "from matplotlib import pyplot as plt\n",
        "import seaborn as sns\n",
        "import scipy.stats as sps\n",
        "import statsmodels as sm\n",
        "import statsmodels.formula.api as smf"
      ]
    },
    {
      "cell_type": "markdown",
      "id": "85b4c826",
      "metadata": {
        "deletable": false,
        "editable": false,
        "id": "85b4c826"
      },
      "source": [
        "### Import Exam Dataset & Create Student Specific Random & Unique Data Sample"
      ]
    },
    {
      "cell_type": "code",
      "execution_count": null,
      "id": "e37d46c1",
      "metadata": {
        "deletable": false,
        "id": "e37d46c1",
        "colab": {
          "base_uri": "https://localhost:8080/"
        },
        "outputId": "20e9ff14-ab69-42f1-f932-22f5d783c9f4"
      },
      "outputs": [
        {
          "output_type": "stream",
          "name": "stdout",
          "text": [
            "<class 'pandas.core.frame.DataFrame'>\n",
            "RangeIndex: 10000 entries, 0 to 9999\n",
            "Data columns (total 29 columns):\n",
            " #   Column                  Non-Null Count  Dtype  \n",
            "---  ------                  --------------  -----  \n",
            " 0   Customer_Id             10000 non-null  int64  \n",
            " 1   Country                 10000 non-null  object \n",
            " 2   Gender                  10000 non-null  object \n",
            " 3   Age                     10000 non-null  int64  \n",
            " 4   Yearly_Average_Salary   10000 non-null  int64  \n",
            " 5   Yearly_Average_Balance  10000 non-null  int64  \n",
            " 6   Credit_Score            10000 non-null  int64  \n",
            " 7   Tenure_Years            10000 non-null  int64  \n",
            " 8   Product_Category        10000 non-null  int64  \n",
            " 9   Credit_Card             10000 non-null  object \n",
            " 10  Active_Member           10000 non-null  object \n",
            " 11  Customer_Churn          10000 non-null  object \n",
            " 12  Unnamed: 12             0 non-null      float64\n",
            " 13  Unnamed: 13             0 non-null      float64\n",
            " 14  Unnamed: 14             0 non-null      float64\n",
            " 15  Unnamed: 15             0 non-null      float64\n",
            " 16  Unnamed: 16             0 non-null      float64\n",
            " 17  Unnamed: 17             0 non-null      float64\n",
            " 18  Unnamed: 18             0 non-null      float64\n",
            " 19  Unnamed: 19             0 non-null      float64\n",
            " 20  Unnamed: 20             0 non-null      float64\n",
            " 21  Unnamed: 21             0 non-null      float64\n",
            " 22  Unnamed: 22             0 non-null      float64\n",
            " 23  Unnamed: 23             0 non-null      float64\n",
            " 24  Unnamed: 24             0 non-null      float64\n",
            " 25  Unnamed: 25             0 non-null      float64\n",
            " 26  Unnamed: 26             0 non-null      float64\n",
            " 27  Unnamed: 27             0 non-null      float64\n",
            " 28  Unnamed: 28             0 non-null      float64\n",
            "dtypes: float64(17), int64(7), object(5)\n",
            "memory usage: 2.2+ MB\n"
          ]
        }
      ],
      "source": [
        "# Define File path : Replace xxxxx with appropriate File Path\n",
        "#file_path = r'/content/DEVP-II_TEST_DATASET (2).csv'\n",
        "\n",
        "# Import & Read Dataset\n",
        "df = pd.read_csv(\"DEVP-II_TEST_DATASET (2).csv\")\n",
        "\n",
        "# Display Dataset Information\n",
        "df.info()\n",
        "\n",
        "\n"
      ]
    },
    {
      "cell_type": "markdown",
      "id": "2b2e646f",
      "metadata": {
        "deletable": false,
        "editable": false,
        "id": "2b2e646f"
      },
      "source": [
        "#### Create Student Specific Unique Dataset - In the Code below:\n",
        "\n",
        "##### 1. Replace 'roll_number_last_4_digit' with Last 4 Digits of your Roll Number\n",
        "##### 2. Replace 'roll_number' with your Roll Number (non-zero part)\n",
        "\n",
        "#### Example : If the Roll Number is 012345 then use:\n",
        "##### 1. n = roll_number_last_4_digit = 2345\n",
        "##### 2. random_state = roll_number = 12345 (the non-zero part)"
      ]
    },
    {
      "cell_type": "code",
      "execution_count": null,
      "id": "27ef7bb4",
      "metadata": {
        "deletable": false,
        "id": "27ef7bb4",
        "colab": {
          "base_uri": "https://localhost:8080/"
        },
        "outputId": "face3602-11e4-49e7-8ca3-92b79678b863"
      },
      "outputs": [
        {
          "output_type": "stream",
          "name": "stdout",
          "text": [
            "<class 'pandas.core.frame.DataFrame'>\n",
            "RangeIndex: 5012 entries, 0 to 5011\n",
            "Data columns (total 29 columns):\n",
            " #   Column                  Non-Null Count  Dtype  \n",
            "---  ------                  --------------  -----  \n",
            " 0   Customer_Id             5012 non-null   int64  \n",
            " 1   Country                 5012 non-null   object \n",
            " 2   Gender                  5012 non-null   object \n",
            " 3   Age                     5012 non-null   int64  \n",
            " 4   Yearly_Average_Salary   5012 non-null   int64  \n",
            " 5   Yearly_Average_Balance  5012 non-null   int64  \n",
            " 6   Credit_Score            5012 non-null   int64  \n",
            " 7   Tenure_Years            5012 non-null   int64  \n",
            " 8   Product_Category        5012 non-null   int64  \n",
            " 9   Credit_Card             5012 non-null   object \n",
            " 10  Active_Member           5012 non-null   object \n",
            " 11  Customer_Churn          5012 non-null   object \n",
            " 12  Unnamed: 12             0 non-null      float64\n",
            " 13  Unnamed: 13             0 non-null      float64\n",
            " 14  Unnamed: 14             0 non-null      float64\n",
            " 15  Unnamed: 15             0 non-null      float64\n",
            " 16  Unnamed: 16             0 non-null      float64\n",
            " 17  Unnamed: 17             0 non-null      float64\n",
            " 18  Unnamed: 18             0 non-null      float64\n",
            " 19  Unnamed: 19             0 non-null      float64\n",
            " 20  Unnamed: 20             0 non-null      float64\n",
            " 21  Unnamed: 21             0 non-null      float64\n",
            " 22  Unnamed: 22             0 non-null      float64\n",
            " 23  Unnamed: 23             0 non-null      float64\n",
            " 24  Unnamed: 24             0 non-null      float64\n",
            " 25  Unnamed: 25             0 non-null      float64\n",
            " 26  Unnamed: 26             0 non-null      float64\n",
            " 27  Unnamed: 27             0 non-null      float64\n",
            " 28  Unnamed: 28             0 non-null      float64\n",
            "dtypes: float64(17), int64(7), object(5)\n",
            "memory usage: 1.1+ MB\n"
          ]
        }
      ],
      "source": [
        "# Create Student Specific Unique Dataset\n",
        "\n",
        "\"\"\"\n",
        "Example:\n",
        "Student's Roll Number = 012345\n",
        "my_df = df.sample (n = 2345, random_state = 12345, ignore_index = True)\n",
        "\"\"\"\n",
        "\n",
        "my_df = df.sample (n = 5012, random_state = 45012, ignore_index = True)\n",
        "\n",
        "# Display Sample Information\n",
        "my_df.info()"
      ]
    },
    {
      "cell_type": "markdown",
      "id": "be2706a4",
      "metadata": {
        "deletable": false,
        "editable": false,
        "id": "be2706a4"
      },
      "source": [
        "## -------------------- Part A : Data Description & Statistics [14 Marks] --------------------"
      ]
    },
    {
      "cell_type": "markdown",
      "id": "737018b5",
      "metadata": {
        "deletable": false,
        "editable": false,
        "id": "737018b5"
      },
      "source": [
        "#### Use 'my_df' Dataset to Perform the following Tasks & Explain:\n",
        "##### 1. Identify the Nominal, Categorical, Ordinal & Continuous Variables in the Data. [02 + 02 + 02 + 02 = 08 marks]\n",
        "##### 2. Display the Descriptive Statistics for all Non-Categorical Variables. [02 marks]\n",
        "##### 3. Display the Descriptive Statistics for any 02 Categorical Variables. [02 + 02 = 04 marks]"
      ]
    },
    {
      "cell_type": "code",
      "execution_count": null,
      "id": "e0ad27f2",
      "metadata": {
        "id": "e0ad27f2",
        "colab": {
          "base_uri": "https://localhost:8080/"
        },
        "outputId": "3bdf989e-2af3-459c-e56e-ce3404512846"
      },
      "outputs": [
        {
          "output_type": "stream",
          "name": "stdout",
          "text": [
            "\n",
            "Nominal Variables: ['Gender', 'Credit_Card', 'Active_Member', 'Customer_Churn']\n",
            "Categorical Variables: ['Country']\n",
            "Ordinal Variables: ['Product_Category', 'Unnamed: 12', 'Unnamed: 13', 'Unnamed: 14', 'Unnamed: 15', 'Unnamed: 16', 'Unnamed: 17', 'Unnamed: 18', 'Unnamed: 19', 'Unnamed: 20', 'Unnamed: 21', 'Unnamed: 22', 'Unnamed: 23', 'Unnamed: 24', 'Unnamed: 25', 'Unnamed: 26', 'Unnamed: 27', 'Unnamed: 28']\n",
            "Continuous Variables: ['Customer_Id', 'Age', 'Yearly_Average_Salary', 'Yearly_Average_Balance', 'Credit_Score', 'Tenure_Years']\n"
          ]
        }
      ],
      "source": [
        "# A1.\n",
        "\n",
        "# Identify variable types\n",
        "nominal_variables = []     # Nominal variables\n",
        "categorical_variables = [] # Categorical variables\n",
        "ordinal_variables = []     # Ordinal variables\n",
        "continuous_variables = []  # Continuous variables\n",
        "\n",
        "# Iterate through each column in the DataFrame\n",
        "for column in my_df.columns:\n",
        "    unique_values = my_df[column].nunique()\n",
        "\n",
        "    # Based on the number of unique values and data type, categorize the variable\n",
        "    if unique_values == 2:\n",
        "        nominal_variables.append(column)\n",
        "    elif df[column].dtype == 'object':\n",
        "        categorical_variables.append(column)\n",
        "    elif unique_values < 10:  # You can adjust this threshold based on your data\n",
        "        ordinal_variables.append(column)\n",
        "    else:\n",
        "        continuous_variables.append(column)\n",
        "\n",
        "# Print the identified variable types\n",
        "print(\"\\nNominal Variables:\", nominal_variables)\n",
        "print(\"Categorical Variables:\", categorical_variables)\n",
        "print(\"Ordinal Variables:\", ordinal_variables)\n",
        "print(\"Continuous Variables:\", continuous_variables)\n",
        "\n",
        "#Analysis#\n",
        "\n",
        "#Analyzing the given set of variables reveals a diverse mix of data types. We have:\n",
        "\n",
        "#Nominal: A single variable, \"Country,\" represents categories without inherent order, such as nationality. It can only be used for groupings and comparisons, not calculations.\n",
        "\n",
        "#Ordinal: \"Tenure_Years\" provides ranked levels (e.g., years active). While order matters, the distance between levels might not be consistent (e.g., 1 year vs. 5 years). Its analysis involves considering order but not assuming equal intervals.\n",
        "\n",
        "#Continuous: Four variables like \"Age\" and \"Credit_Score\" represent values along a continuous spectrum. They allow for calculations like averages, differences, and correlations.\n",
        "\n",
        "#Categorical: These variables like \"Gender\" and \"Customer_churn\" capture distinct groupings, often with binary options (e.g., male/female, churned/active). While similar to nominal, they can potentially hold additional meaning beyond just labels (e.g., gender might relate to specific demographics).\n",
        "\n",
        "#Understanding these distinctions is crucial for choosing appropriate statistical methods and interpretations. Continuous variables can undergo more intricate analyses compared to nominal or ordinal ones. Similarly, ordinal data requires specific techniques that respect its ranked nature.\n",
        "\n",
        "#This diversity offers various avenues for exploration. Nominal features can be used for segmenting and characterizing groups, while continuous ones enable deeper relationships and trends. Ordinal data allows for exploring ordered patterns and their potential influences."
      ]
    },
    {
      "cell_type": "markdown",
      "source": [
        "Analysis\n",
        "\n",
        "Analyzing the given set of variables reveals a diverse mix of data types. We have:\n",
        "\n",
        "Nominal: A single variable, \"Country,\" represents categories without inherent order, such as nationality. It can only be used for groupings and comparisons, not calculations.\n",
        "\n",
        "Ordinal: \"Tenure_Years\" provides ranked levels (e.g., years active). While order matters, the distance between levels might not be consistent (e.g., 1 year vs. 5 years). Its analysis involves considering order but not assuming equal intervals.\n",
        "\n",
        "Continuous: Four variables like \"Age\" and \"Credit_Score\" represent values along a continuous spectrum. They allow for calculations like averages, differences, and correlations.\n",
        "\n",
        "Categorical: These variables like \"Gender\" and \"Customer_churn\" capture distinct groupings, often with binary options (e.g., male/female, churned/active). While similar to nominal, they can potentially hold additional meaning beyond just labels (e.g., gender might relate to specific demographics).\n",
        "\n",
        "Understanding these distinctions is crucial for choosing appropriate statistical methods and interpretations. Continuous variables can undergo more intricate analyses compared to nominal or ordinal ones. Similarly, ordinal data requires specific techniques that respect its ranked nature.\n",
        "\n",
        "This diversity offers various avenues for exploration. Nominal features can be used for segmenting and characterizing groups, while continuous ones enable deeper relationships and trends. Ordinal data allows for exploring ordered patterns and their potential influences"
      ],
      "metadata": {
        "id": "FuCfOX0-UCdh"
      },
      "id": "FuCfOX0-UCdh"
    },
    {
      "cell_type": "code",
      "execution_count": null,
      "id": "318a57c3",
      "metadata": {
        "id": "318a57c3",
        "colab": {
          "base_uri": "https://localhost:8080/",
          "height": 300
        },
        "outputId": "368ba1d5-5701-44bb-d9fc-9c56447c9d6d"
      },
      "outputs": [
        {
          "output_type": "execute_result",
          "data": {
            "text/plain": [
              "               Age  Yearly_Average_Salary  Yearly_Average_Balance  \\\n",
              "count  5012.000000            5012.000000             5012.000000   \n",
              "mean     38.857542           99954.480646            75754.727454   \n",
              "std      10.420976           57163.588704            62285.598511   \n",
              "min      18.000000              12.000000                0.000000   \n",
              "25%      32.000000           51581.750000                0.000000   \n",
              "50%      37.000000           99691.000000            96943.500000   \n",
              "75%      44.000000          149147.000000           126874.500000   \n",
              "max      92.000000          199992.000000           250898.000000   \n",
              "\n",
              "       Credit_Score  Tenure_Years  \n",
              "count   5012.000000   5012.000000  \n",
              "mean     648.470072      5.007183  \n",
              "std       96.056950      2.884172  \n",
              "min      350.000000      0.000000  \n",
              "25%      582.000000      2.000000  \n",
              "50%      650.000000      5.000000  \n",
              "75%      714.000000      7.000000  \n",
              "max      850.000000     10.000000  "
            ],
            "text/html": [
              "\n",
              "  <div id=\"df-fe3d6382-75c9-449f-8217-fa3ed72aeeca\" class=\"colab-df-container\">\n",
              "    <div>\n",
              "<style scoped>\n",
              "    .dataframe tbody tr th:only-of-type {\n",
              "        vertical-align: middle;\n",
              "    }\n",
              "\n",
              "    .dataframe tbody tr th {\n",
              "        vertical-align: top;\n",
              "    }\n",
              "\n",
              "    .dataframe thead th {\n",
              "        text-align: right;\n",
              "    }\n",
              "</style>\n",
              "<table border=\"1\" class=\"dataframe\">\n",
              "  <thead>\n",
              "    <tr style=\"text-align: right;\">\n",
              "      <th></th>\n",
              "      <th>Age</th>\n",
              "      <th>Yearly_Average_Salary</th>\n",
              "      <th>Yearly_Average_Balance</th>\n",
              "      <th>Credit_Score</th>\n",
              "      <th>Tenure_Years</th>\n",
              "    </tr>\n",
              "  </thead>\n",
              "  <tbody>\n",
              "    <tr>\n",
              "      <th>count</th>\n",
              "      <td>5012.000000</td>\n",
              "      <td>5012.000000</td>\n",
              "      <td>5012.000000</td>\n",
              "      <td>5012.000000</td>\n",
              "      <td>5012.000000</td>\n",
              "    </tr>\n",
              "    <tr>\n",
              "      <th>mean</th>\n",
              "      <td>38.857542</td>\n",
              "      <td>99954.480646</td>\n",
              "      <td>75754.727454</td>\n",
              "      <td>648.470072</td>\n",
              "      <td>5.007183</td>\n",
              "    </tr>\n",
              "    <tr>\n",
              "      <th>std</th>\n",
              "      <td>10.420976</td>\n",
              "      <td>57163.588704</td>\n",
              "      <td>62285.598511</td>\n",
              "      <td>96.056950</td>\n",
              "      <td>2.884172</td>\n",
              "    </tr>\n",
              "    <tr>\n",
              "      <th>min</th>\n",
              "      <td>18.000000</td>\n",
              "      <td>12.000000</td>\n",
              "      <td>0.000000</td>\n",
              "      <td>350.000000</td>\n",
              "      <td>0.000000</td>\n",
              "    </tr>\n",
              "    <tr>\n",
              "      <th>25%</th>\n",
              "      <td>32.000000</td>\n",
              "      <td>51581.750000</td>\n",
              "      <td>0.000000</td>\n",
              "      <td>582.000000</td>\n",
              "      <td>2.000000</td>\n",
              "    </tr>\n",
              "    <tr>\n",
              "      <th>50%</th>\n",
              "      <td>37.000000</td>\n",
              "      <td>99691.000000</td>\n",
              "      <td>96943.500000</td>\n",
              "      <td>650.000000</td>\n",
              "      <td>5.000000</td>\n",
              "    </tr>\n",
              "    <tr>\n",
              "      <th>75%</th>\n",
              "      <td>44.000000</td>\n",
              "      <td>149147.000000</td>\n",
              "      <td>126874.500000</td>\n",
              "      <td>714.000000</td>\n",
              "      <td>7.000000</td>\n",
              "    </tr>\n",
              "    <tr>\n",
              "      <th>max</th>\n",
              "      <td>92.000000</td>\n",
              "      <td>199992.000000</td>\n",
              "      <td>250898.000000</td>\n",
              "      <td>850.000000</td>\n",
              "      <td>10.000000</td>\n",
              "    </tr>\n",
              "  </tbody>\n",
              "</table>\n",
              "</div>\n",
              "    <div class=\"colab-df-buttons\">\n",
              "\n",
              "  <div class=\"colab-df-container\">\n",
              "    <button class=\"colab-df-convert\" onclick=\"convertToInteractive('df-fe3d6382-75c9-449f-8217-fa3ed72aeeca')\"\n",
              "            title=\"Convert this dataframe to an interactive table.\"\n",
              "            style=\"display:none;\">\n",
              "\n",
              "  <svg xmlns=\"http://www.w3.org/2000/svg\" height=\"24px\" viewBox=\"0 -960 960 960\">\n",
              "    <path d=\"M120-120v-720h720v720H120Zm60-500h600v-160H180v160Zm220 220h160v-160H400v160Zm0 220h160v-160H400v160ZM180-400h160v-160H180v160Zm440 0h160v-160H620v160ZM180-180h160v-160H180v160Zm440 0h160v-160H620v160Z\"/>\n",
              "  </svg>\n",
              "    </button>\n",
              "\n",
              "  <style>\n",
              "    .colab-df-container {\n",
              "      display:flex;\n",
              "      gap: 12px;\n",
              "    }\n",
              "\n",
              "    .colab-df-convert {\n",
              "      background-color: #E8F0FE;\n",
              "      border: none;\n",
              "      border-radius: 50%;\n",
              "      cursor: pointer;\n",
              "      display: none;\n",
              "      fill: #1967D2;\n",
              "      height: 32px;\n",
              "      padding: 0 0 0 0;\n",
              "      width: 32px;\n",
              "    }\n",
              "\n",
              "    .colab-df-convert:hover {\n",
              "      background-color: #E2EBFA;\n",
              "      box-shadow: 0px 1px 2px rgba(60, 64, 67, 0.3), 0px 1px 3px 1px rgba(60, 64, 67, 0.15);\n",
              "      fill: #174EA6;\n",
              "    }\n",
              "\n",
              "    .colab-df-buttons div {\n",
              "      margin-bottom: 4px;\n",
              "    }\n",
              "\n",
              "    [theme=dark] .colab-df-convert {\n",
              "      background-color: #3B4455;\n",
              "      fill: #D2E3FC;\n",
              "    }\n",
              "\n",
              "    [theme=dark] .colab-df-convert:hover {\n",
              "      background-color: #434B5C;\n",
              "      box-shadow: 0px 1px 3px 1px rgba(0, 0, 0, 0.15);\n",
              "      filter: drop-shadow(0px 1px 2px rgba(0, 0, 0, 0.3));\n",
              "      fill: #FFFFFF;\n",
              "    }\n",
              "  </style>\n",
              "\n",
              "    <script>\n",
              "      const buttonEl =\n",
              "        document.querySelector('#df-fe3d6382-75c9-449f-8217-fa3ed72aeeca button.colab-df-convert');\n",
              "      buttonEl.style.display =\n",
              "        google.colab.kernel.accessAllowed ? 'block' : 'none';\n",
              "\n",
              "      async function convertToInteractive(key) {\n",
              "        const element = document.querySelector('#df-fe3d6382-75c9-449f-8217-fa3ed72aeeca');\n",
              "        const dataTable =\n",
              "          await google.colab.kernel.invokeFunction('convertToInteractive',\n",
              "                                                    [key], {});\n",
              "        if (!dataTable) return;\n",
              "\n",
              "        const docLinkHtml = 'Like what you see? Visit the ' +\n",
              "          '<a target=\"_blank\" href=https://colab.research.google.com/notebooks/data_table.ipynb>data table notebook</a>'\n",
              "          + ' to learn more about interactive tables.';\n",
              "        element.innerHTML = '';\n",
              "        dataTable['output_type'] = 'display_data';\n",
              "        await google.colab.output.renderOutput(dataTable, element);\n",
              "        const docLink = document.createElement('div');\n",
              "        docLink.innerHTML = docLinkHtml;\n",
              "        element.appendChild(docLink);\n",
              "      }\n",
              "    </script>\n",
              "  </div>\n",
              "\n",
              "\n",
              "<div id=\"df-abf1a9e1-06b8-4ffc-964a-da30810f58cf\">\n",
              "  <button class=\"colab-df-quickchart\" onclick=\"quickchart('df-abf1a9e1-06b8-4ffc-964a-da30810f58cf')\"\n",
              "            title=\"Suggest charts\"\n",
              "            style=\"display:none;\">\n",
              "\n",
              "<svg xmlns=\"http://www.w3.org/2000/svg\" height=\"24px\"viewBox=\"0 0 24 24\"\n",
              "     width=\"24px\">\n",
              "    <g>\n",
              "        <path d=\"M19 3H5c-1.1 0-2 .9-2 2v14c0 1.1.9 2 2 2h14c1.1 0 2-.9 2-2V5c0-1.1-.9-2-2-2zM9 17H7v-7h2v7zm4 0h-2V7h2v10zm4 0h-2v-4h2v4z\"/>\n",
              "    </g>\n",
              "</svg>\n",
              "  </button>\n",
              "\n",
              "<style>\n",
              "  .colab-df-quickchart {\n",
              "      --bg-color: #E8F0FE;\n",
              "      --fill-color: #1967D2;\n",
              "      --hover-bg-color: #E2EBFA;\n",
              "      --hover-fill-color: #174EA6;\n",
              "      --disabled-fill-color: #AAA;\n",
              "      --disabled-bg-color: #DDD;\n",
              "  }\n",
              "\n",
              "  [theme=dark] .colab-df-quickchart {\n",
              "      --bg-color: #3B4455;\n",
              "      --fill-color: #D2E3FC;\n",
              "      --hover-bg-color: #434B5C;\n",
              "      --hover-fill-color: #FFFFFF;\n",
              "      --disabled-bg-color: #3B4455;\n",
              "      --disabled-fill-color: #666;\n",
              "  }\n",
              "\n",
              "  .colab-df-quickchart {\n",
              "    background-color: var(--bg-color);\n",
              "    border: none;\n",
              "    border-radius: 50%;\n",
              "    cursor: pointer;\n",
              "    display: none;\n",
              "    fill: var(--fill-color);\n",
              "    height: 32px;\n",
              "    padding: 0;\n",
              "    width: 32px;\n",
              "  }\n",
              "\n",
              "  .colab-df-quickchart:hover {\n",
              "    background-color: var(--hover-bg-color);\n",
              "    box-shadow: 0 1px 2px rgba(60, 64, 67, 0.3), 0 1px 3px 1px rgba(60, 64, 67, 0.15);\n",
              "    fill: var(--button-hover-fill-color);\n",
              "  }\n",
              "\n",
              "  .colab-df-quickchart-complete:disabled,\n",
              "  .colab-df-quickchart-complete:disabled:hover {\n",
              "    background-color: var(--disabled-bg-color);\n",
              "    fill: var(--disabled-fill-color);\n",
              "    box-shadow: none;\n",
              "  }\n",
              "\n",
              "  .colab-df-spinner {\n",
              "    border: 2px solid var(--fill-color);\n",
              "    border-color: transparent;\n",
              "    border-bottom-color: var(--fill-color);\n",
              "    animation:\n",
              "      spin 1s steps(1) infinite;\n",
              "  }\n",
              "\n",
              "  @keyframes spin {\n",
              "    0% {\n",
              "      border-color: transparent;\n",
              "      border-bottom-color: var(--fill-color);\n",
              "      border-left-color: var(--fill-color);\n",
              "    }\n",
              "    20% {\n",
              "      border-color: transparent;\n",
              "      border-left-color: var(--fill-color);\n",
              "      border-top-color: var(--fill-color);\n",
              "    }\n",
              "    30% {\n",
              "      border-color: transparent;\n",
              "      border-left-color: var(--fill-color);\n",
              "      border-top-color: var(--fill-color);\n",
              "      border-right-color: var(--fill-color);\n",
              "    }\n",
              "    40% {\n",
              "      border-color: transparent;\n",
              "      border-right-color: var(--fill-color);\n",
              "      border-top-color: var(--fill-color);\n",
              "    }\n",
              "    60% {\n",
              "      border-color: transparent;\n",
              "      border-right-color: var(--fill-color);\n",
              "    }\n",
              "    80% {\n",
              "      border-color: transparent;\n",
              "      border-right-color: var(--fill-color);\n",
              "      border-bottom-color: var(--fill-color);\n",
              "    }\n",
              "    90% {\n",
              "      border-color: transparent;\n",
              "      border-bottom-color: var(--fill-color);\n",
              "    }\n",
              "  }\n",
              "</style>\n",
              "\n",
              "  <script>\n",
              "    async function quickchart(key) {\n",
              "      const quickchartButtonEl =\n",
              "        document.querySelector('#' + key + ' button');\n",
              "      quickchartButtonEl.disabled = true;  // To prevent multiple clicks.\n",
              "      quickchartButtonEl.classList.add('colab-df-spinner');\n",
              "      try {\n",
              "        const charts = await google.colab.kernel.invokeFunction(\n",
              "            'suggestCharts', [key], {});\n",
              "      } catch (error) {\n",
              "        console.error('Error during call to suggestCharts:', error);\n",
              "      }\n",
              "      quickchartButtonEl.classList.remove('colab-df-spinner');\n",
              "      quickchartButtonEl.classList.add('colab-df-quickchart-complete');\n",
              "    }\n",
              "    (() => {\n",
              "      let quickchartButtonEl =\n",
              "        document.querySelector('#df-abf1a9e1-06b8-4ffc-964a-da30810f58cf button');\n",
              "      quickchartButtonEl.style.display =\n",
              "        google.colab.kernel.accessAllowed ? 'block' : 'none';\n",
              "    })();\n",
              "  </script>\n",
              "</div>\n",
              "    </div>\n",
              "  </div>\n"
            ]
          },
          "metadata": {},
          "execution_count": 18
        }
      ],
      "source": [
        "# A2.\n",
        "\n",
        "non_categorical_stats = my_df[['Age', 'Yearly_Average_Salary', 'Yearly_Average_Balance', 'Credit_Score', 'Tenure_Years']].describe()\n",
        "non_categorical_stats"
      ]
    },
    {
      "cell_type": "code",
      "execution_count": null,
      "id": "106cebe7",
      "metadata": {
        "id": "106cebe7",
        "colab": {
          "base_uri": "https://localhost:8080/"
        },
        "outputId": "2a024995-f86a-430f-a602-41761aa7b1ff"
      },
      "outputs": [
        {
          "output_type": "stream",
          "name": "stdout",
          "text": [
            "Gender Distribution:\n",
            "Male      2757\n",
            "Female    2255\n",
            "Name: Gender, dtype: int64\n",
            "\n",
            "Active Member Distribution:\n",
            "Yes    2581\n",
            "No     2431\n",
            "Name: Active_Member, dtype: int64\n"
          ]
        }
      ],
      "source": [
        "# A3.\n",
        "\n",
        "# Display Descriptive Statistics for 2 Categorical Variables\n",
        "categorical_stats_1 = my_df['Gender'].value_counts()\n",
        "print(f'Gender Distribution:\\n{categorical_stats_1}\\n')\n",
        "\n",
        "categorical_stats_2 = my_df['Active_Member'].value_counts()\n",
        "print(f'Active Member Distribution:\\n{categorical_stats_2}')\n",
        "\n"
      ]
    },
    {
      "cell_type": "markdown",
      "source": [],
      "metadata": {
        "id": "6UEvJ84CUX1g"
      },
      "id": "6UEvJ84CUX1g"
    },
    {
      "cell_type": "markdown",
      "source": [
        "Analysis:\n",
        "\n",
        "\n",
        "Let's analyze the data on gender distribution and active member distribution:\n",
        "\n",
        "Gender Distribution:\n",
        "\n",
        "Male: 2757\n",
        "\n",
        "Female: 2255\n",
        "\n",
        "Analysis:\n",
        "\n",
        "The dataset has more males (2757) than females (2255).\n",
        "The distribution is not perfectly balanced, with a higher count of males.\n",
        "Active Member Distribution:\n",
        "\n",
        "Yes: 2581\n",
        "\n",
        "No: 2431\n",
        "\n",
        "Analysis:\n",
        "\n",
        "There are more active members (2581) than non-active members (2431).\n",
        "The distribution is relatively close, indicating a somewhat balanced representation of active and non-active members.\n",
        "Insights:\n",
        "\n",
        "Gender:\n",
        "\n",
        "The dataset skews toward males, but the difference in counts between males and females is not extremely large.\n",
        "Further analysis could involve exploring relationships between gender and other variables to understand any potential patterns or correlations.\n",
        "Active Member:\n",
        "\n",
        "The distribution of active members is relatively balanced, with a slightly higher count of active members.\n",
        "Analyzing the characteristics or behaviors of active and non-active members could provide insights into factors influencing membership status.\n",
        "Considerations for Further Analysis:\n",
        "\n",
        "Correlation Analysis:\n",
        "\n",
        "Explore whether there is a correlation between gender and active membership.\n",
        "Consider using statistical tests or visualization techniques to understand any potential associations.\n",
        "Demographic Analysis:\n",
        "\n",
        "If available, analyze additional demographic variables to understand the composition of the dataset further.\n",
        "Consider the impact of gender and active membership on other variables of interest.\n",
        "Business Implications:\n",
        "\n",
        "Understand the business context and goals related to gender distribution and active membership.\n",
        "Consider how these distributions may influence business decisions or strategies.\n",
        "Visualization:\n",
        "\n",
        "Create visual representations such as bar charts or pie charts to clearly convey the distribution patterns.\n",
        "Statistical Testing:\n",
        "\n",
        "Depending on the research questions, conduct statistical tests to determine if there are significant differences or associations between gender and active membership.\n",
        "In summary, the analysis provides a basic overview of the gender and active member distributions in the dataset."
      ],
      "metadata": {
        "id": "jPLsLZobUTdu"
      },
      "id": "jPLsLZobUTdu"
    },
    {
      "cell_type": "markdown",
      "id": "60fbeff3",
      "metadata": {
        "deletable": false,
        "editable": false,
        "id": "60fbeff3"
      },
      "source": [
        "## -------------------- Part B : Probability [06 Marks] --------------------"
      ]
    },
    {
      "cell_type": "markdown",
      "id": "a68ed3c3",
      "metadata": {
        "id": "a68ed3c3"
      },
      "source": [
        "#### Use 'my_df' Dataset to Select a Continuous Varaiable and Perform the following Tasks & Explain:\n",
        "##### 1. Calculate Maximum Value of the above Continuous Variable lying at the Bottom 10% . [03 marks]\n",
        "##### 2. Calculate Minimum Value of the above Continuous Variable lying at the Top 10% . [03 marks]"
      ]
    },
    {
      "cell_type": "code",
      "execution_count": null,
      "id": "15e2bad0",
      "metadata": {
        "id": "15e2bad0",
        "colab": {
          "base_uri": "https://localhost:8080/"
        },
        "outputId": "e45b7beb-020f-4aec-8c8d-0cc6cd035a9a"
      },
      "outputs": [
        {
          "output_type": "stream",
          "name": "stdout",
          "text": [
            "Maximum Value at Bottom 10% of 'Age': 27.00\n"
          ]
        }
      ],
      "source": [
        "# B1.\n",
        "# Select the continuous variable for analysis\n",
        "selected_continuous_variable = 'Age'  # Replace with your chosen continuous variable\n",
        "\n",
        "# Task 1: Calculate Maximum Value at Bottom 10%\n",
        "bottom_10_percent_max = my_df[selected_continuous_variable].quantile(0.1)\n",
        "print(f\"Maximum Value at Bottom 10% of '{selected_continuous_variable}': {bottom_10_percent_max:.2f}\")\n",
        "\n",
        "\n",
        "\n"
      ]
    },
    {
      "cell_type": "markdown",
      "source": [
        " Analysis\n",
        "\n",
        "The statement \"Maximum Value at Bottom 10% of 'Age': 27.00\" suggests that when you look at the bottom 10% of the age distribution, the maximum age in that subset is 27. This can be interpreted in the context of a dataset or a population where ages are recorded.\n",
        "\n",
        " Here's an analysis of what this statement implies:\n",
        "\n",
        "Distribution of Ages: The ages in your dataset are not uniformly distributed. There is a concentration of individuals in the lower age range, and the maximum age within this bottom 10% is 27.\n",
        "\n",
        "Skewed Distribution: The distribution of ages may be right-skewed, meaning that most individuals are younger, but there are a few individuals with higher ages that contribute to the maximum value.\n",
        "\n",
        "Implications for Analysis: When considering the bottom 10% of ages, the majority of individuals are below 27. If you were to analyze this specific subset, it might be characterized by younger individuals, and any trends or patterns in this age group could be influenced by the concentration of younger ages.\n",
        "\n",
        "Outliers: The presence of a maximum value at the bottom 10% doesn't necessarily mean there are outliers, but it does suggest that there might be a few individuals with ages higher than the typical range for that portion of the distribution#"
      ],
      "metadata": {
        "id": "WPvecl2UUy8X"
      },
      "id": "WPvecl2UUy8X"
    },
    {
      "cell_type": "code",
      "execution_count": null,
      "id": "75546959",
      "metadata": {
        "id": "75546959",
        "colab": {
          "base_uri": "https://localhost:8080/"
        },
        "outputId": "9e3de2b8-afb9-4b1b-e55e-20c5f4653716"
      },
      "outputs": [
        {
          "output_type": "stream",
          "name": "stdout",
          "text": [
            "Minimum Value at Top 10% of 'Age': 53.00\n"
          ]
        }
      ],
      "source": [
        "# B2.\n",
        "# Task 2: Calculate Minimum Value at Top 10%\n",
        "top_10_percent_min = my_df[selected_continuous_variable].quantile(0.9)\n",
        "print(f\"Minimum Value at Top 10% of '{selected_continuous_variable}': {top_10_percent_min:.2f}\")\n",
        "\n"
      ]
    },
    {
      "cell_type": "markdown",
      "source": [
        "Analysis\n",
        "\n",
        "The statement \"Minimum Value at Top 10% of 'Age': 53.00\" suggests that when you look at the top 10% of the age distribution, the minimum age in that subset is 53. Let's analyze what this statement implies:\n",
        "\n",
        "Distribution of Ages: The ages in the dataset are not uniformly distributed. There is a concentration of individuals in the younger age range, but the minimum age within the top 10% is 53.\n",
        "\n",
        "Skewed Distribution: The distribution of ages may be left-skewed, meaning that most individuals are younger, but there are a few individuals with higher ages that contribute to the minimum value in the top 10%.\n",
        "\n",
        "Implications for Analysis: When considering the top 10% of ages, the majority of individuals are below 53. If you were to analyze this specific subset, it might be characterized by older individuals, and any trends or patterns in this age group could be influenced by the concentration of older ages.\n",
        "\n",
        "Outliers: The presence of a minimum value at the top 10% suggests that there might be a few individuals with ages higher than the typical range for that portion of the distribution. These individuals could be considered outliers in the context of the overall age distribution.\n",
        "\n",
        "Consideration for Research or Decision-Making: Depending on the context, understanding the distribution of ages is crucial. If the goal is to study or address issues related to older individuals, then this insight about the minimum age in the top 10% could be important."
      ],
      "metadata": {
        "id": "O4vIJM_gUmuH"
      },
      "id": "O4vIJM_gUmuH"
    },
    {
      "cell_type": "markdown",
      "id": "f22ca566",
      "metadata": {
        "deletable": false,
        "editable": false,
        "id": "f22ca566"
      },
      "source": [
        "## -------------------- Part C : Inferential Statistics [20 Marks] --------------------"
      ]
    },
    {
      "cell_type": "markdown",
      "id": "8b3f63ea",
      "metadata": {
        "deletable": false,
        "editable": false,
        "id": "8b3f63ea"
      },
      "source": [
        "#### Use 'my_df' Dataset to Perform the following Tasks & Explain:\n",
        "##### 1. Taking a Categorical Variariable having 02 Categories and a Continuous Variable, Conduct a T-Test. [05 marks]\n",
        "##### 2. Taking a Categorical Variariable having 03 or more Categories and a Continuous Variable, Conduct an ANOVA. [05 marks]\n",
        "##### 3. Taking 02 Variables, Conduct a Test of Correlation. [05 marks]\n",
        "##### 4. Taking a Continuous Variable, Conduct a Test of Normality. [05 marks]"
      ]
    },
    {
      "cell_type": "code",
      "execution_count": null,
      "id": "327018e0",
      "metadata": {
        "id": "327018e0",
        "colab": {
          "base_uri": "https://localhost:8080/"
        },
        "outputId": "97d65ad3-9b1d-460c-c337-3e8748ad5894"
      },
      "outputs": [
        {
          "output_type": "stream",
          "name": "stdout",
          "text": [
            "T-statistic: 0.5829000217516299\n",
            "P-value: 0.5599868404603987\n"
          ]
        }
      ],
      "source": [
        "# C1.\n",
        "# Select the categorical variable with 2 categories\n",
        "categorical_var = \"Gender\"  # Replace with the actual variable name\n",
        "\n",
        "# Select the continuous variable\n",
        "continuous_var = \"Yearly_Average_Salary\"  # Replace with the desired variable\n",
        "\n",
        "# Split the data into two groups based on the categorical variable\n",
        "group1 = my_df[my_df[categorical_var] == \"Female\"][continuous_var]\n",
        "group2 = my_df[my_df[categorical_var] == \"Male\"][continuous_var]\n",
        "\n",
        "# Conduct the t-test\n",
        "t_statistic, p_value = sps.ttest_ind(group1, group2)\n",
        "\n",
        "# Print the results\n",
        "print(\"T-statistic:\", t_statistic)\n",
        "print(\"P-value:\", p_value)"
      ]
    },
    {
      "cell_type": "markdown",
      "source": [
        "The provided information includes a t-statistic and a p-value. These values are typically associated with a t-test, where a t-statistic measures the difference between the means of two groups relative to the variability within the groups, and the p-value indicates the probability of obtaining such results if the null hypothesis were true.\n",
        "\n",
        "Let's break down the interpretation:\n",
        "\n",
        "T-statistic:\n",
        "\n",
        "The t-statistic is 0.5829000217516299.\n",
        "The t-statistic represents the number of standard deviations by which the sample mean differs from the null hypothesis.\n",
        "P-value:\n",
        "\n",
        "The p-value is 0.5599868404603987.\n",
        "The p-value is the probability of observing a t-statistic as extreme as the one calculated, assuming the null hypothesis is true.\n",
        "Interpretation:\n",
        "\n",
        "The p-value (0.56) is greater than the typical significance level of 0.05.\n",
        "When the p-value is high, you typically fail to reject the null hypothesis.\n",
        "Conclusion:\n",
        "\n",
        "Based on the provided p-value, there is not enough evidence to reject the null hypothesis.\n",
        "The data does not provide strong statistical evidence to support a significant difference between the groups or conditions being compared.\n",
        "Caution:\n",
        "\n",
        "Keep in mind that the interpretation may vary depending on the context of the analysis, the specific hypothesis being tested, and the significance level chosen.\n",
        "In summary, the t-test results suggest that the observed t-statistic is not significantly different from what would be expected under the null hypothesis. This could imply that there is no significant effect or difference in the means of the groups being compared. However, always consider the context of the analysis and the implications for your specific research or question."
      ],
      "metadata": {
        "id": "geKHalfZR9_-"
      },
      "id": "geKHalfZR9_-"
    },
    {
      "cell_type": "code",
      "execution_count": null,
      "id": "5891d452",
      "metadata": {
        "id": "5891d452",
        "colab": {
          "base_uri": "https://localhost:8080/"
        },
        "outputId": "6f2e8cc7-5186-485f-b903-a2a52d7a95b3"
      },
      "outputs": [
        {
          "output_type": "stream",
          "name": "stdout",
          "text": [
            "ANOVA results:\n",
            "                 sum_sq      df          F    PR(>F)\n",
            "Country     2612.343834     2.0  12.080921  0.000006\n",
            "Residual  541565.941083  5009.0        NaN       NaN\n"
          ]
        }
      ],
      "source": [
        "# C2.\n",
        "\n",
        "import statsmodels.api as sm\n",
        "from statsmodels.formula.api import ols\n",
        "\n",
        "# Assuming 'Country' is a categorical variable with 3 or more categories and 'Age' is a continuous variable\n",
        "model = ols('Age ~ Country', data=my_df).fit()\n",
        "anova_table = sm.stats.anova_lm(model, typ=2)\n",
        "print(\"ANOVA results:\")\n",
        "print(anova_table)"
      ]
    },
    {
      "cell_type": "markdown",
      "source": [
        "\n",
        "Analysis\n",
        "\n",
        "sum_sq (Sum of Squares): This column represents the sum of squared deviations from the mean. For \"Country,\" it is 2612.343834.\n",
        "df (Degrees of Freedom): The degrees of freedom for \"Country\" are 2, and for the residuals (error), it is 5009.\n",
        "F (F-statistic): The F-statistic is a ratio of variances. In this case, it's 12.080921 for \"Country.\"\n",
        "PR(>F) (p-value): This is the p-value associated with the F-statistic. For \"Country,\" it is very small (0.000006), indicating a significant result.\n",
        "Interpretation:\n",
        "\n",
        "The null hypothesis for ANOVA is that there is no significant difference among group means. In this case, the p-value (0.000006) is less than the typical significance level of 0.05.\n",
        "With a low p-value, you would typically reject the null hypothesis. This suggests that there is a significant difference in means among at least two of the \"Country\" groups.\n",
        "Conclusion:\n",
        "\n",
        "Based on the small p-value, you have evidence to suggest that there are significant differences in the means of the variable of interest (\"Country\"). However, to identify which specific groups differ, additional post-hoc tests or pairwise comparisons might be necessary.\n",
        "Residuals:\n",
        "\n",
        "The \"Residual\" row provides information about the variability that is not explained by the model. In this case, the large sum of squares (541565.941083) indicates the total unexplained variability.\n",
        "Further Analysis:\n",
        "\n",
        "Consider conducting post-hoc tests or pairwise comparisons to identify which specific groups are different from each other.\n",
        "Evaluate the effect size to understand the practical significance of the differences.\n",
        "Overall, the ANOVA results indicate that there is a significant difference in the means of the variable \"Country.\" However, further investigation is needed to understand the nature of these differences."
      ],
      "metadata": {
        "id": "C0ahdajuRqxY"
      },
      "id": "C0ahdajuRqxY"
    },
    {
      "cell_type": "code",
      "execution_count": null,
      "id": "4020b360",
      "metadata": {
        "id": "4020b360",
        "colab": {
          "base_uri": "https://localhost:8080/"
        },
        "outputId": "10693529-5313-4f98-c057-15f18d02a516"
      },
      "outputs": [
        {
          "output_type": "stream",
          "name": "stdout",
          "text": [
            "Correlation between Yearly_Average_Salary and Yearly_Average_Balance: 0.021976854381746867\n"
          ]
        }
      ],
      "source": [
        "# C3.\n",
        "# Assuming 'Yearly_Average_Salary' and 'Yearly_Average_Balance' are continuous variables\n",
        "correlation = my_df['Yearly_Average_Salary'].corr(my_df['Yearly_Average_Balance'])\n",
        "print(f\"Correlation between Yearly_Average_Salary and Yearly_Average_Balance: {correlation}\")"
      ]
    },
    {
      "cell_type": "markdown",
      "source": [
        "Analysis\n",
        "\n",
        "The provided information indicates a correlation coefficient between two variables: \"Yearly_Average_Salary\" and \"Yearly_Average_Balance.\" The correlation coefficient is given as 0.021976854381746867.\n",
        "\n",
        "Here's how you can interpret this correlation coefficient:\n",
        "\n",
        "Correlation Coefficient (r):\n",
        "\n",
        "The correlation coefficient is a measure of the strength and direction of the linear relationship between two variables.\n",
        "A value of 0.021976854381746867 suggests a very weak positive correlation.\n",
        "Interpretation:\n",
        "\n",
        "The positive sign indicates a positive correlation, meaning that as one variable increases, the other variable tends to increase as well, although the relationship is weak.\n",
        "The closeness of the coefficient to zero (0.02) suggests that there is little to no linear relationship between the two variables.\n",
        "Strength of Correlation:\n",
        "\n",
        "Correlation coefficients typically range from -1 to 1.\n",
        "Values close to 1 or -1 indicate a strong positive or negative linear relationship, respectively.\n",
        "Values close to 0 suggest a weak or no linear relationship.\n",
        "Practical Significance:\n",
        "\n",
        "The correlation coefficient is very close to zero, indicating that the correlation, while statistically significant, may not be practically significant.\n",
        "In practical terms, changes in \"Yearly_Average_Salary\" are not strongly associated with changes in \"Yearly_Average_Balance.\"\n",
        "Caution:\n",
        "\n",
        "Correlation does not imply causation. Even if two variables are correlated, it does not necessarily mean that one variable causes the other to change.\n",
        "Other factors or nonlinear relationships may exist that are not captured by the correlation coefficient.\n",
        "In summary, the correlation coefficient of 0.021976854381746867 suggests a very weak positive correlation between \"Yearly_Average_Salary\" and \"Yearly_Average_Balance.\" The practical significance of this correlation should be carefully considered, and further analysis may be needed to explore the relationship between these variables in more detail."
      ],
      "metadata": {
        "id": "XqjV6OaySOMd"
      },
      "id": "XqjV6OaySOMd"
    },
    {
      "cell_type": "code",
      "execution_count": null,
      "id": "414eca35",
      "metadata": {
        "id": "414eca35",
        "colab": {
          "base_uri": "https://localhost:8080/",
          "height": 671
        },
        "outputId": "cc73e941-fc91-461d-fd7f-0e355805ab42"
      },
      "outputs": [
        {
          "output_type": "display_data",
          "data": {
            "text/plain": [
              "<Figure size 800x600 with 1 Axes>"
            ],
            "image/png": "[encoded data removed]"
          },
          "metadata": {}
        },
        {
          "output_type": "stream",
          "name": "stdout",
          "text": [
            "Shapiro-Wilk Test Statistic: 0.9577599167823792\n",
            "P-value: 7.535042192718825e-36\n",
            "Reject the null hypothesis. The variable is not normally distributed.\n"
          ]
        },
        {
          "output_type": "stream",
          "name": "stderr",
          "text": [
            "/usr/local/lib/python3.10/dist-packages/scipy/stats/_morestats.py:1882: UserWarning: p-value may not be accurate for N > 5000.\n",
            "  warnings.warn(\"p-value may not be accurate for N > 5000.\")\n"
          ]
        }
      ],
      "source": [
        "# C4.\n",
        "import scipy.stats as stats\n",
        "import matplotlib.pyplot as plt\n",
        "import seaborn as sns\n",
        "\n",
        "# Select the continuous variable for the normality test\n",
        "continuous_variable = 'Yearly_Average_Salary'\n",
        "\n",
        "# Plot a histogram to visually inspect the distribution\n",
        "plt.figure(figsize=(8, 6))\n",
        "sns.histplot(my_df[continuous_variable], kde=True, color='skyblue')\n",
        "plt.title(f'Histogram of {continuous_variable}')\n",
        "plt.xlabel(continuous_variable)\n",
        "plt.ylabel('Frequency')\n",
        "plt.show()\n",
        "\n",
        "# Perform the Shapiro-Wilk test for normality\n",
        "statistic, p_value = stats.shapiro(my_df[continuous_variable])\n",
        "\n",
        "# Display the results\n",
        "print(f\"Shapiro-Wilk Test Statistic: {statistic}\")\n",
        "print(f\"P-value: {p_value}\")\n",
        "\n",
        "# Interpret the results\n",
        "alpha = 0.05\n",
        "if p_value < alpha:\n",
        "    print(\"Reject the null hypothesis. The variable is not normally distributed.\")\n",
        "else:\n",
        "    print(\"Fail to reject the null hypothesis. The variable is normally distributed.\")"
      ]
    },
    {
      "cell_type": "markdown",
      "source": [
        "Analysis:\n",
        "\n",
        "Shapiro-Wilk Test:\n",
        "\n",
        "Test Statistic: 0.9577599167823792\n",
        "P-value: 7.535042192718825e-36\n",
        "Interpretation:\n",
        "\n",
        "The Shapiro-Wilk test is a statistical test used to assess whether a given sample comes from a normally distributed population.\n",
        "The test statistic is 0.9577599167823792, and the associated p-value is very close to zero (7.535042192718825e-36).\n",
        "The low p-value suggests strong evidence against the null hypothesis of normal distribution.\n",
        "Conclusion:\n",
        "\n",
        "Null Hypothesis (H0): The variable is normally distributed.\n",
        "Alternative Hypothesis (H1): The variable is not normally distributed.\n",
        "Since the p-value is below any common significance level (e.g., 0.05), we reject the null hypothesis.\n",
        "Recommendations:\n",
        "\n",
        "Non-Normality: The result suggests that the variable under consideration is not normally distributed.\n",
        "Transformation: If normality is crucial for downstream analyses or modeling, you might consider transforming the variable using mathematical transformations (e.g., logarithmic, square root) to achieve a more normal distribution.\n",
        "Non-parametric Tests: If normality cannot be achieved or is not necessary for your analysis, consider using non-parametric statistical tests, which do not rely on the assumption of normality.\n",
        "Caution:\n",
        "\n",
        "The warning about the accuracy of the p-value for large sample sizes (N > 5000) is important to note. In such cases, p-values can be very small even if deviations from normality are minor. However, with a p-value as small as 7.535042192718825e-36, it is practically negligible, suggesting a clear departure from normality.\n",
        "Further Exploration:\n",
        "\n",
        "Visual Inspection: Plotting a histogram or a Q-Q plot can provide visual insights into the distribution of the variable.\n",
        "Other Tests: Consider other normality tests or statistical techniques to assess the distribution.\n",
        "Context: Consider the context of your analysis and whether departures from normality have substantial implications for your specific use case."
      ],
      "metadata": {
        "id": "58ySKTg8Si9Q"
      },
      "id": "58ySKTg8Si9Q"
    },
    {
      "cell_type": "markdown",
      "id": "923defe6",
      "metadata": {
        "deletable": false,
        "editable": false,
        "id": "923defe6"
      },
      "source": [
        "## -------------------- Part D : Regression [30 Marks] --------------------"
      ]
    },
    {
      "cell_type": "markdown",
      "id": "10b8a5ff",
      "metadata": {
        "deletable": false,
        "editable": false,
        "id": "10b8a5ff"
      },
      "source": [
        "#### Use 'my_df' Dataset to Perform the following Tasks & Explain:\n",
        "##### 1. Develop a Multiple Linear Regression Model (with at least 03 Continuous Variables as Input). Describe the Results. Predict the Dependent Variable with artifitial Inputs.  [02 + 06 + 02 = 10 marks]\n",
        "##### 2. Develop a Multiple Linear Regression Model (with at least 02 Continuous Variables & 01 Categorical Variable as Input). Describe the Results. Predict the Dependent Variable with artifitial Inputs.  [02 + 06 + 02 = 10 marks]\n",
        "##### 3. Develop a Logistic Regression Model (with at least 02 Continuous Variables as Input & 01 Categorical Variable  as Output). Describe the Results. Predict the Dependent Variable with artifitial Inputs.  [02 + 06 + 02 = 10 marks]"
      ]
    },
    {
      "cell_type": "code",
      "execution_count": null,
      "id": "963139c8",
      "metadata": {
        "id": "963139c8",
        "colab": {
          "base_uri": "https://localhost:8080/"
        },
        "outputId": "ce08812c-d8fc-4607-e6d4-7be321f2528d"
      },
      "outputs": [
        {
          "output_type": "stream",
          "name": "stdout",
          "text": [
            "                              OLS Regression Results                             \n",
            "=================================================================================\n",
            "Dep. Variable:     Yearly_Average_Salary   R-squared:                       0.000\n",
            "Model:                               OLS   Adj. R-squared:                 -0.001\n",
            "Method:                    Least Squares   F-statistic:                    0.1548\n",
            "Date:                   Wed, 27 Dec 2023   Prob (F-statistic):              0.927\n",
            "Time:                           07:54:16   Log-Likelihood:                -49603.\n",
            "No. Observations:                   4009   AIC:                         9.921e+04\n",
            "Df Residuals:                       4005   BIC:                         9.924e+04\n",
            "Df Model:                              3                                         \n",
            "Covariance Type:               nonrobust                                         \n",
            "================================================================================\n",
            "                   coef    std err          t      P>|t|      [0.025      0.975]\n",
            "--------------------------------------------------------------------------------\n",
            "const         1.023e+05   7199.637     14.214      0.000    8.82e+04    1.16e+05\n",
            "Age            -52.0018     87.069     -0.597      0.550    -222.706     118.702\n",
            "Tenure_Years    80.6528    312.797      0.258      0.797    -532.604     693.910\n",
            "Credit_Score    -2.0283      9.397     -0.216      0.829     -20.452      16.395\n",
            "==============================================================================\n",
            "Omnibus:                     2716.725   Durbin-Watson:                   2.011\n",
            "Prob(Omnibus):                  0.000   Jarque-Bera (JB):              230.428\n",
            "Skew:                           0.017   Prob(JB):                     9.19e-51\n",
            "Kurtosis:                       1.826   Cond. No.                     5.23e+03\n",
            "==============================================================================\n",
            "\n",
            "Notes:\n",
            "[1] Standard Errors assume that the covariance matrix of the errors is correctly specified.\n",
            "[2] The condition number is large, 5.23e+03. This might indicate that there are\n",
            "strong multicollinearity or other numerical problems.\n",
            "Mean Squared Error: 3252947457.7674627\n",
            "Predicted Yearly Average Salary: 99236.430626716\n"
          ]
        }
      ],
      "source": [
        "# D1.\n",
        "import statsmodels.api as sm\n",
        "from sklearn.model_selection import train_test_split\n",
        "from sklearn.metrics import mean_squared_error\n",
        "import numpy as np\n",
        "\n",
        "# Select the input features (independent variables)\n",
        "# Assuming 'Age', 'Tenure_Years', and 'Credit_Score' as continuous variables\n",
        "X = my_df[['Age', 'Tenure_Years', 'Credit_Score']]\n",
        "\n",
        "# Add a constant term for the intercept\n",
        "X = sm.add_constant(X)\n",
        "\n",
        "# Select the dependent variable\n",
        "y = my_df['Yearly_Average_Salary']\n",
        "\n",
        "# Split the data into training and testing sets\n",
        "X_train, X_test, y_train, y_test = train_test_split(X, y, test_size=0.2, random_state=42)\n",
        "\n",
        "# Fit the multiple linear regression model\n",
        "model = sm.OLS(y_train, X_train).fit()\n",
        "\n",
        "# Display the model summary\n",
        "print(model.summary())\n",
        "\n",
        "# Make predictions on the test set\n",
        "y_pred = model.predict(X_test)\n",
        "\n",
        "# Calculate the Mean Squared Error (MSE) as a measure of model performance\n",
        "mse = mean_squared_error(y_test, y_pred)\n",
        "print(\"Mean Squared Error:\", mse)\n",
        "\n",
        "# Predict the dependent variable with artificial inputs\n",
        "# For example, predicting 'Yearly_Average_Salary' for a person with Age=40, Tenure_Years=5, and Credit_Score=700\n",
        "artificial_inputs = [1, 40, 5, 700]  # Add a constant term (1) for the intercept\n",
        "predicted_salary = model.predict(artificial_inputs)\n",
        "print(\"Predicted Yearly Average Salary:\", predicted_salary[0])"
      ]
    },
    {
      "cell_type": "markdown",
      "source": [
        "Analysis\n",
        "\n",
        "Insights:\n",
        "\n",
        "The model, as indicated by the low R-squared and high p-values, does not effectively explain the variability in the dependent variable (\"Yearly_Average_Salary\").\n",
        "\n",
        "None of the predictor variables (Age, Tenure_Years, Credit_Score) individually contribute significantly to predicting the dependent variable.\n",
        "\n",
        "The model assumptions, such as normality of residuals, are violated, as indicated by the Omnibus and Jarque-Bera tests.\n",
        "\n",
        "The condition number suggests the potential presence of multicollinearity, which could affect the stability of coefficient estimates.\n",
        "\n",
        "The Mean Squared Error (MSE) and Predicted Yearly Average Salary can be used to assess the accuracy of the model predictions.\n",
        "\n",
        "Recommendations:\n",
        "\n",
        "Consider reviewing and possibly transforming the predictor variables.\n",
        "Explore interactions between variables.\n",
        "Assess and address multicollinearity issues.\n",
        "Consider additional variables that might better explain the variation in \"Yearly_Average_Salary.\""
      ],
      "metadata": {
        "id": "MSgmiHm-SmPT"
      },
      "id": "MSgmiHm-SmPT"
    },
    {
      "cell_type": "code",
      "execution_count": null,
      "id": "22e66067",
      "metadata": {
        "id": "22e66067",
        "colab": {
          "base_uri": "https://localhost:8080/"
        },
        "outputId": "1d3ec804-d4cc-4c3f-8838-aef2371c850f"
      },
      "outputs": [
        {
          "output_type": "stream",
          "name": "stdout",
          "text": [
            "                              OLS Regression Results                             \n",
            "=================================================================================\n",
            "Dep. Variable:     Yearly_Average_Salary   R-squared:                       0.000\n",
            "Model:                               OLS   Adj. R-squared:                 -0.001\n",
            "Method:                    Least Squares   F-statistic:                    0.2655\n",
            "Date:                   Wed, 27 Dec 2023   Prob (F-statistic):              0.850\n",
            "Time:                           07:54:37   Log-Likelihood:                -49603.\n",
            "No. Observations:                   4009   AIC:                         9.921e+04\n",
            "Df Residuals:                       4005   BIC:                         9.924e+04\n",
            "Df Model:                              3                                         \n",
            "Covariance Type:               nonrobust                                         \n",
            "================================================================================\n",
            "                   coef    std err          t      P>|t|      [0.025      0.975]\n",
            "--------------------------------------------------------------------------------\n",
            "const         1.017e+05   3964.708     25.643      0.000    9.39e+04    1.09e+05\n",
            "Age            -52.8378     87.077     -0.607      0.544    -223.558     117.882\n",
            "Tenure_Years    80.9938    312.785      0.259      0.796    -532.239     694.226\n",
            "Gender_Male  -1117.8085   1817.106     -0.615      0.538   -4680.348    2444.731\n",
            "==============================================================================\n",
            "Omnibus:                     2709.931   Durbin-Watson:                   2.010\n",
            "Prob(Omnibus):                  0.000   Jarque-Bera (JB):              230.302\n",
            "Skew:                           0.017   Prob(JB):                     9.78e-51\n",
            "Kurtosis:                       1.826   Cond. No.                         180.\n",
            "==============================================================================\n",
            "\n",
            "Notes:\n",
            "[1] Standard Errors assume that the covariance matrix of the errors is correctly specified.\n",
            "Mean Squared Error: 3252409949.2742724\n",
            "Predicted Yearly Average Salary: 98840.55620387653\n"
          ]
        }
      ],
      "source": [
        "# D2.\n",
        "# Select the input features (independent variables)\n",
        "# Assuming 'Age' and 'Tenure_Years' as continuous variables, and 'Gender' as a categorical variable\n",
        "X = my_df[['Age', 'Tenure_Years', 'Gender']]\n",
        "\n",
        "# Convert categorical variable 'Gender' to dummy variables\n",
        "X = pd.get_dummies(X, columns=['Gender'], drop_first=True)\n",
        "\n",
        "# Add a constant term for the intercept\n",
        "X = sm.add_constant(X)\n",
        "\n",
        "# Select the dependent variable\n",
        "y = my_df['Yearly_Average_Salary']\n",
        "\n",
        "# Split the data into training and testing sets\n",
        "X_train, X_test, y_train, y_test = train_test_split(X, y, test_size=0.2, random_state=42)\n",
        "\n",
        "# Fit the multiple linear regression model\n",
        "model = sm.OLS(y_train, X_train).fit()\n",
        "\n",
        "# Display the model summary\n",
        "print(model.summary())\n",
        "\n",
        "# Make predictions on the test set\n",
        "y_pred = model.predict(X_test)\n",
        "\n",
        "# Calculate the Mean Squared Error (MSE) as a measure of model performance\n",
        "mse = mean_squared_error(y_test, y_pred)\n",
        "print(\"Mean Squared Error:\", mse)\n",
        "\n",
        "# Predict the dependent variable with artificial inputs\n",
        "# For example, predicting 'Yearly_Average_Salary' for a person with Age=40, Tenure_Years=5, and Gender=Male\n",
        "artificial_inputs = [1, 40, 5, 1]  # Add a constant term (1) for the intercept and use 1 for Male, 0 for Female\n",
        "predicted_salary = model.predict(artificial_inputs)\n",
        "print(\"Predicted Yearly Average Salary:\", predicted_salary[0])"
      ]
    },
    {
      "cell_type": "markdown",
      "source": [
        "Analysis:\n",
        "\n",
        "\n",
        "Let's analyze the OLS regression results for the model with additional predictor variable \"Gender_Male.\" Here are the key insights:\n",
        "\n",
        "Model Summary:\n",
        "\n",
        "yaml\n",
        "Copy code\n",
        "Dep. Variable:  Yearly_Average_Salary  \n",
        "R-squared:      0.000\n",
        "Adj. R-squared: -0.001\n",
        "F-statistic:    0.2655\n",
        "Prob (F-statistic): 0.850\n",
        "The R-squared and adjusted R-squared are close to zero, suggesting that the model, including the added variable \"Gender_Male,\" does not explain much of the variability in \"Yearly_Average_Salary.\"\n",
        "\n",
        "The F-statistic is low, and the associated p-value is high (0.850), indicating that the overall model is not statistically significant.\n",
        "\n",
        "Coefficients:\n",
        "\n",
        "makefile\n",
        "Copy code\n",
        "const:         1.017e+05\n",
        "Age:          -52.8378\n",
        "Tenure_Years:  80.9938\n",
        "Gender_Male: -1117.8085\n",
        "The coefficient for \"Gender_Male\" is -1117.8085. This implies that, on average, the \"Yearly_Average_Salary\" is expected to be lower for males compared to females by $1117.81, holding other variables constant.\n",
        "P-values (P>|t|):\n",
        "\n",
        "makefile\n",
        "Copy code\n",
        "Age:             0.544\n",
        "Tenure_Years:    0.796\n",
        "Gender_Male:     0.538\n",
        "The p-values for all predictors, including the added \"Gender_Male,\" are high. None of the predictors are statistically significant at the conventional significance level of 0.05.\n",
        "Diagnostic Measures:\n",
        "\n",
        "makefile\n",
        "Copy code\n",
        "Omnibus:         2709.931\n",
        "Prob(Omnibus):   0.000\n",
        "Jarque-Bera (JB): 230.302\n",
        "Similar to the previous model, the tests for normality (Omnibus and Jarque-Bera) indicate non-normality of residuals.\n",
        "\n",
        "The Durbin-Watson statistic is close to 2, suggesting no significant autocorrelation in residuals.\n",
        "\n",
        "Condition Number:\n",
        "\n",
        "yaml\n",
        "Copy code\n",
        "Cond. No.:      180.\n",
        "The condition number is low, indicating no severe multicollinearity issues.\n",
        "Insights:\n",
        "\n",
        "The addition of the \"Gender_Male\" variable did not improve the model's explanatory power, as indicated by the low R-squared and F-statistic.\n",
        "\n",
        "None of the predictor variables (Age, Tenure_Years, Gender_Male) individually contribute significantly to predicting \"Yearly_Average_Salary.\"\n",
        "\n",
        "The coefficients have low practical significance, and the lack of statistical significance suggests that these variables may not be suitable for predicting salary in this model.\n",
        "\n",
        "The model assumptions regarding normality of residuals are violated.\n",
        "\n",
        "Recommendations:\n",
        "\n",
        "Consider revisiting the choice of predictor variables or exploring additional variables that may have a more substantial impact on predicting \"Yearly_Average_Salary.\"\n",
        "\n",
        "Evaluate transformations or interactions between variables to potentially capture non-linear relationships.\n",
        "\n",
        "Further exploration and refinement of the model are needed to improve its predictive performance."
      ],
      "metadata": {
        "id": "NM-4zcZJS8hx"
      },
      "id": "NM-4zcZJS8hx"
    },
    {
      "cell_type": "code",
      "execution_count": null,
      "id": "9e95921c",
      "metadata": {
        "id": "9e95921c",
        "colab": {
          "base_uri": "https://localhost:8080/"
        },
        "outputId": "1aded018-74d0-43d5-d184-7838ae1bd9ac"
      },
      "outputs": [
        {
          "output_type": "stream",
          "name": "stdout",
          "text": [
            "Optimization terminated successfully.\n",
            "         Current function value: 0.456861\n",
            "         Iterations 6\n",
            "                           Logit Regression Results                           \n",
            "==============================================================================\n",
            "Dep. Variable:         Customer_Churn   No. Observations:                 4009\n",
            "Model:                          Logit   Df Residuals:                     4006\n",
            "Method:                           MLE   Df Model:                            2\n",
            "Date:                Wed, 27 Dec 2023   Pseudo R-squ.:                 0.07420\n",
            "Time:                        07:55:21   Log-Likelihood:                -1831.6\n",
            "converged:                       True   LL-Null:                       -1978.4\n",
            "Covariance Type:            nonrobust   LLR p-value:                 1.759e-64\n",
            "================================================================================\n",
            "                   coef    std err          z      P>|z|      [0.025      0.975]\n",
            "--------------------------------------------------------------------------------\n",
            "const           -3.9033      0.179    -21.858      0.000      -4.253      -3.553\n",
            "Age              0.0630      0.004     16.593      0.000       0.056       0.070\n",
            "Tenure_Years    -0.0166      0.014     -1.158      0.247      -0.045       0.012\n",
            "================================================================================\n",
            "Accuracy: 0.7706879361914257\n",
            "Confusion Matrix:\n",
            " [[766  27]\n",
            " [203   7]]\n",
            "Classification Report:\n",
            "               precision    recall  f1-score   support\n",
            "\n",
            "           0       0.79      0.97      0.87       793\n",
            "           1       0.21      0.03      0.06       210\n",
            "\n",
            "    accuracy                           0.77      1003\n",
            "   macro avg       0.50      0.50      0.46      1003\n",
            "weighted avg       0.67      0.77      0.70      1003\n",
            "\n",
            "Predicted Customer Churn Probability: 0.1876819760429128\n",
            "Predicted Customer Churn (1: Yes, 0: No): 0\n"
          ]
        }
      ],
      "source": [
        "# D3.\n",
        "import statsmodels.api as sm\n",
        "from sklearn.model_selection import train_test_split\n",
        "from sklearn.metrics import accuracy_score, classification_report, confusion_matrix\n",
        "\n",
        "# Assuming my_df is your DataFrame\n",
        "# Replace 'my_df' with the actual name of your DataFrame if different\n",
        "\n",
        "# Select the input features (independent variables)\n",
        "# Assuming 'Age' and 'Tenure_Years' as continuous variables\n",
        "X = my_df[['Age', 'Tenure_Years']]\n",
        "\n",
        "# Add a constant term for the intercept\n",
        "X = sm.add_constant(X)\n",
        "\n",
        "# Select the dependent variable\n",
        "y = my_df['Customer_Churn']\n",
        "\n",
        "# Convert categorical variable 'Customer_Churn' to numerical encoding (0 and 1)\n",
        "y = y.map({'No': 0, 'Yes': 1})\n",
        "\n",
        "# Split the data into training and testing sets\n",
        "X_train, X_test, y_train, y_test = train_test_split(X, y, test_size=0.2, random_state=42)\n",
        "\n",
        "# Fit the logistic regression model\n",
        "model = sm.Logit(y_train, X_train).fit()\n",
        "\n",
        "# Display the model summary\n",
        "print(model.summary())\n",
        "\n",
        "# Make predictions on the test set\n",
        "y_pred_prob = model.predict(X_test)\n",
        "y_pred = (y_pred_prob > 0.5).astype(int)\n",
        "\n",
        "# Evaluate the model performance\n",
        "accuracy = accuracy_score(y_test, y_pred)\n",
        "conf_matrix = confusion_matrix(y_test, y_pred)\n",
        "class_report = classification_report(y_test, y_pred)\n",
        "\n",
        "print(\"Accuracy:\", accuracy)\n",
        "print(\"Confusion Matrix:\\n\", conf_matrix)\n",
        "print(\"Classification Report:\\n\", class_report)\n",
        "\n",
        "# Predict the dependent variable with artificial inputs\n",
        "# For example, predicting 'Customer_Churn' for a person with Age=40 and Tenure_Years=5\n",
        "artificial_inputs = [1, 40, 5]  # Add a constant term (1) for the intercept\n",
        "predicted_churn_prob = model.predict(artificial_inputs)\n",
        "predicted_churn = (predicted_churn_prob > 0.5).astype(int)\n",
        "\n",
        "print(\"Predicted Customer Churn Probability:\", predicted_churn_prob[0])\n",
        "print(\"Predicted Customer Churn (1: Yes, 0: No):\", predicted_churn[0])"
      ]
    },
    {
      "cell_type": "markdown",
      "source": [
        "Analysis:\n",
        "\n",
        "\n",
        "Interpretation:\n",
        "\n",
        "The logistic regression model has a Pseudo R-squared of 0.07420, indicating that the predictors explain a small portion of the variance in customer churn.\n",
        "\n",
        "The Age variable is statistically significant, suggesting that it plays a role in predicting customer churn. However, Tenure_Years is not statistically significant.\n",
        "\n",
        "The accuracy of the model is around 77.07%, but the precision, recall, and F1-score for predicting churn (class 1) are relatively low, suggesting that the model may not be performing well in identifying actual cases of churn.\n",
        "\n",
        "The predicted customer churn probability is approximately 18.77%, indicating a relatively low overall probability of churn in the dataset.\n",
        "\n",
        "Further evaluation of model performance and potential improvements may be necessary, considering the context and the business goals related to predicting customer churn. Additionally, exploring the impact of other variables and potential interactions may enhance the model's predictive capability.\n",
        "\n",
        "\n",
        "\n",
        "\n",
        "\n",
        "\n"
      ],
      "metadata": {
        "id": "BOoTFokxTMrh"
      },
      "id": "BOoTFokxTMrh"
    }
  ],
  "metadata": {
    "celltoolbar": "Edit Metadata",
    "kernelspec": {
      "display_name": "Python 3 (ipykernel)",
      "language": "python",
      "name": "python3"
    },
    "language_info": {
      "codemirror_mode": {
        "name": "ipython",
        "version": 3
      },
      "file_extension": ".py",
      "mimetype": "text/x-python",
      "name": "python",
      "nbconvert_exporter": "python",
      "pygments_lexer": "ipython3",
      "version": "3.8.18"
    },
    "colab": {
      "provenance": [],
      "include_colab_link": true
    }
  },
  "nbformat": 4,
  "nbformat_minor": 5
}